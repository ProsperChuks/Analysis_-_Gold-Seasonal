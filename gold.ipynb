{
  "nbformat": 4,
  "nbformat_minor": 0,
  "metadata": {
    "colab": {
      "name": "gold.ipynb",
      "provenance": [],
      "mount_file_id": "150fCYL0-mnYLhffo1Fvo8i1c_sBqpM0E",
      "authorship_tag": "ABX9TyOMkPvS+JGsGKCWDe4hOkGR",
      "include_colab_link": true
    },
    "kernelspec": {
      "name": "python3",
      "display_name": "Python 3"
    },
    "language_info": {
      "name": "python"
    }
  },
  "cells": [
    {
      "cell_type": "markdown",
      "metadata": {
        "id": "view-in-github",
        "colab_type": "text"
      },
      "source": [
        "<a href=\"https://colab.research.google.com/github/ProsperChuks/Analysis_-_Gold-Seasonal/blob/main/gold.ipynb\" target=\"_parent\"><img src=\"https://colab.research.google.com/assets/colab-badge.svg\" alt=\"Open In Colab\"/></a>"
      ]
    },
    {
      "cell_type": "code",
      "metadata": {
        "colab": {
          "base_uri": "https://localhost:8080/"
        },
        "id": "hgZBvHeZBTLx",
        "outputId": "2d03c811-bcf5-4990-b5ca-985ebfc97c11"
      },
      "source": [
        "!pip install chart_studio"
      ],
      "execution_count": 1,
      "outputs": [
        {
          "output_type": "stream",
          "name": "stdout",
          "text": [
            "Collecting chart_studio\n",
            "  Downloading chart_studio-1.1.0-py3-none-any.whl (64 kB)\n",
            "\u001b[?25l\r\u001b[K     |█████                           | 10 kB 23.8 MB/s eta 0:00:01\r\u001b[K     |██████████▏                     | 20 kB 20.6 MB/s eta 0:00:01\r\u001b[K     |███████████████▎                | 30 kB 23.8 MB/s eta 0:00:01\r\u001b[K     |████████████████████▍           | 40 kB 27.3 MB/s eta 0:00:01\r\u001b[K     |█████████████████████████▍      | 51 kB 29.7 MB/s eta 0:00:01\r\u001b[K     |██████████████████████████████▌ | 61 kB 31.9 MB/s eta 0:00:01\r\u001b[K     |████████████████████████████████| 64 kB 2.8 MB/s \n",
            "\u001b[?25hRequirement already satisfied: six in /usr/local/lib/python3.7/dist-packages (from chart_studio) (1.15.0)\n",
            "Requirement already satisfied: requests in /usr/local/lib/python3.7/dist-packages (from chart_studio) (2.23.0)\n",
            "Requirement already satisfied: plotly in /usr/local/lib/python3.7/dist-packages (from chart_studio) (4.4.1)\n",
            "Requirement already satisfied: retrying>=1.3.3 in /usr/local/lib/python3.7/dist-packages (from chart_studio) (1.3.3)\n",
            "Requirement already satisfied: chardet<4,>=3.0.2 in /usr/local/lib/python3.7/dist-packages (from requests->chart_studio) (3.0.4)\n",
            "Requirement already satisfied: urllib3!=1.25.0,!=1.25.1,<1.26,>=1.21.1 in /usr/local/lib/python3.7/dist-packages (from requests->chart_studio) (1.24.3)\n",
            "Requirement already satisfied: idna<3,>=2.5 in /usr/local/lib/python3.7/dist-packages (from requests->chart_studio) (2.10)\n",
            "Requirement already satisfied: certifi>=2017.4.17 in /usr/local/lib/python3.7/dist-packages (from requests->chart_studio) (2021.5.30)\n",
            "Installing collected packages: chart-studio\n",
            "Successfully installed chart-studio-1.1.0\n"
          ]
        }
      ]
    },
    {
      "cell_type": "code",
      "metadata": {
        "id": "aYqiWvwXWrMG"
      },
      "source": [
        "import numpy as np\n",
        "import pandas as pd\n",
        "import matplotlib.pyplot as plt\n",
        "%matplotlib inline\n",
        "import chart_studio.plotly as py\n",
        "import plotly.express as px"
      ],
      "execution_count": 2,
      "outputs": []
    },
    {
      "cell_type": "code",
      "metadata": {
        "colab": {
          "base_uri": "https://localhost:8080/",
          "height": 542
        },
        "id": "vzGrpR_HBOT_",
        "outputId": "490f3f6f-794a-4faf-a221-26526acfc5d3"
      },
      "source": [
        "gold_df = pd.read_csv('/content/drive/MyDrive/Colab Notebooks/seasonal/dataset/1979-2021.csv')\n",
        "\n",
        "px.line(gold_df, x='Date', y='United States(USD)',\n",
        "        labels={'x': 'Date', 'y': 'Price'})"
      ],
      "execution_count": 4,
      "outputs": [
        {
          "output_type": "display_data",
          "data": {
            "text/html": [
              "<html>\n",
              "<head><meta charset=\"utf-8\" /></head>\n",
              "<body>\n",
              "    <div>\n",
              "            <script src=\"https://cdnjs.cloudflare.com/ajax/libs/mathjax/2.7.5/MathJax.js?config=TeX-AMS-MML_SVG\"></script><script type=\"text/javascript\">if (window.MathJax) {MathJax.Hub.Config({SVG: {font: \"STIX-Web\"}});}</script>\n",
              "                <script type=\"text/javascript\">window.PlotlyConfig = {MathJaxConfig: 'local'};</script>\n",
              "        <script src=\"https://cdn.plot.ly/plotly-latest.min.js\"></script>    \n",
              "            <div id=\"85be305e-8514-40db-b579-bb2c82ddf1a8\" class=\"plotly-graph-div\" style=\"height:525px; width:100%;\"></div>\n",
              "            <script type=\"text/javascript\">\n",
              "                \n",
              "                    window.PLOTLYENV=window.PLOTLYENV || {};\n",
              "                    \n",
              "                if (document.getElementById(\"85be305e-8514-40db-b579-bb2c82ddf1a8\")) {\n",
              "                    Plotly.newPlot(\n",
              "                        '85be305e-8514-40db-b579-bb2c82ddf1a8',\n",
              "                        [{\"hoverlabel\": {\"namelength\": 0}, \"hovertemplate\": \"Date=%{x}<br>United States(USD)=%{y}\", \"legendgroup\": \"\", \"line\": {\"color\": \"#636efa\", \"dash\": \"solid\"}, \"mode\": \"lines\", \"name\": \"\", \"showlegend\": false, \"type\": \"scatter\", \"x\": [\"31-01-1979\", \"28-02-1979\", \"30-03-1979\", \"30-04-1979\", \"31-05-1979\", \"29-06-1979\", \"31-07-1979\", \"31-08-1979\", \"28-09-1979\", \"31-10-1979\", \"30-11-1979\", \"31-12-1979\", \"31-01-1980\", \"29-02-1980\", \"31-03-1980\", \"30-04-1980\", \"30-05-1980\", \"30-06-1980\", \"31-07-1980\", \"29-08-1980\", \"30-09-1980\", \"31-10-1980\", \"28-11-1980\", \"31-12-1980\", \"30-01-1981\", \"27-02-1981\", \"31-03-1981\", \"30-04-1981\", \"29-05-1981\", \"30-06-1981\", \"31-07-1981\", \"31-08-1981\", \"30-09-1981\", \"30-10-1981\", \"30-11-1981\", \"31-12-1981\", \"29-01-1982\", \"26-02-1982\", \"31-03-1982\", \"30-04-1982\", \"31-05-1982\", \"30-06-1982\", \"30-07-1982\", \"31-08-1982\", \"30-09-1982\", \"29-10-1982\", \"30-11-1982\", \"31-12-1982\", \"31-01-1983\", \"28-02-1983\", \"31-03-1983\", \"29-04-1983\", \"31-05-1983\", \"30-06-1983\", \"29-07-1983\", \"31-08-1983\", \"30-09-1983\", \"31-10-1983\", \"30-11-1983\", \"30-12-1983\", \"31-01-1984\", \"29-02-1984\", \"30-03-1984\", \"30-04-1984\", \"31-05-1984\", \"29-06-1984\", \"31-07-1984\", \"31-08-1984\", \"28-09-1984\", \"31-10-1984\", \"30-11-1984\", \"31-12-1984\", \"31-01-1985\", \"28-02-1985\", \"29-03-1985\", \"30-04-1985\", \"31-05-1985\", \"28-06-1985\", \"31-07-1985\", \"30-08-1985\", \"30-09-1985\", \"31-10-1985\", \"29-11-1985\", \"31-12-1985\", \"31-01-1986\", \"28-02-1986\", \"31-03-1986\", \"30-04-1986\", \"30-05-1986\", \"30-06-1986\", \"31-07-1986\", \"29-08-1986\", \"30-09-1986\", \"31-10-1986\", \"28-11-1986\", \"31-12-1986\", \"30-01-1987\", \"27-02-1987\", \"31-03-1987\", \"30-04-1987\", \"29-05-1987\", \"30-06-1987\", \"31-07-1987\", \"31-08-1987\", \"30-09-1987\", \"30-10-1987\", \"30-11-1987\", \"31-12-1987\", \"29-01-1988\", \"29-02-1988\", \"31-03-1988\", \"29-04-1988\", \"31-05-1988\", \"30-06-1988\", \"29-07-1988\", \"31-08-1988\", \"30-09-1988\", \"31-10-1988\", \"30-11-1988\", \"30-12-1988\", \"31-01-1989\", \"28-02-1989\", \"31-03-1989\", \"28-04-1989\", \"31-05-1989\", \"30-06-1989\", \"31-07-1989\", \"31-08-1989\", \"29-09-1989\", \"31-10-1989\", \"30-11-1989\", \"29-12-1989\", \"31-01-1990\", \"28-02-1990\", \"30-03-1990\", \"30-04-1990\", \"31-05-1990\", \"29-06-1990\", \"31-07-1990\", \"31-08-1990\", \"28-09-1990\", \"31-10-1990\", \"30-11-1990\", \"31-12-1990\", \"31-01-1991\", \"28-02-1991\", \"29-03-1991\", \"30-04-1991\", \"31-05-1991\", \"28-06-1991\", \"31-07-1991\", \"30-08-1991\", \"30-09-1991\", \"31-10-1991\", \"29-11-1991\", \"31-12-1991\", \"31-01-1992\", \"28-02-1992\", \"31-03-1992\", \"30-04-1992\", \"29-05-1992\", \"30-06-1992\", \"31-07-1992\", \"31-08-1992\", \"30-09-1992\", \"30-10-1992\", \"30-11-1992\", \"31-12-1992\", \"29-01-1993\", \"26-02-1993\", \"31-03-1993\", \"30-04-1993\", \"31-05-1993\", \"30-06-1993\", \"30-07-1993\", \"31-08-1993\", \"30-09-1993\", \"29-10-1993\", \"30-11-1993\", \"31-12-1993\", \"31-01-1994\", \"28-02-1994\", \"31-03-1994\", \"29-04-1994\", \"31-05-1994\", \"30-06-1994\", \"29-07-1994\", \"31-08-1994\", \"30-09-1994\", \"31-10-1994\", \"30-11-1994\", \"30-12-1994\", \"31-01-1995\", \"28-02-1995\", \"31-03-1995\", \"28-04-1995\", \"31-05-1995\", \"30-06-1995\", \"31-07-1995\", \"31-08-1995\", \"29-09-1995\", \"31-10-1995\", \"30-11-1995\", \"29-12-1995\", \"31-01-1996\", \"29-02-1996\", \"29-03-1996\", \"30-04-1996\", \"31-05-1996\", \"28-06-1996\", \"31-07-1996\", \"30-08-1996\", \"30-09-1996\", \"31-10-1996\", \"29-11-1996\", \"31-12-1996\", \"31-01-1997\", \"28-02-1997\", \"31-03-1997\", \"30-04-1997\", \"30-05-1997\", \"30-06-1997\", \"31-07-1997\", \"29-08-1997\", \"30-09-1997\", \"31-10-1997\", \"28-11-1997\", \"31-12-1997\", \"30-01-1998\", \"27-02-1998\", \"31-03-1998\", \"30-04-1998\", \"29-05-1998\", \"30-06-1998\", \"31-07-1998\", \"31-08-1998\", \"30-09-1998\", \"30-10-1998\", \"30-11-1998\", \"31-12-1998\", \"29-01-1999\", \"26-02-1999\", \"31-03-1999\", \"30-04-1999\", \"31-05-1999\", \"30-06-1999\", \"30-07-1999\", \"31-08-1999\", \"30-09-1999\", \"29-10-1999\", \"30-11-1999\", \"31-12-1999\", \"31-01-2000\", \"29-02-2000\", \"31-03-2000\", \"28-04-2000\", \"31-05-2000\", \"30-06-2000\", \"31-07-2000\", \"31-08-2000\", \"29-09-2000\", \"31-10-2000\", \"30-11-2000\", \"29-12-2000\", \"31-01-2001\", \"28-02-2001\", \"30-03-2001\", \"30-04-2001\", \"31-05-2001\", \"29-06-2001\", \"31-07-2001\", \"31-08-2001\", \"28-09-2001\", \"31-10-2001\", \"30-11-2001\", \"31-12-2001\", \"31-01-2002\", \"28-02-2002\", \"29-03-2002\", \"30-04-2002\", \"31-05-2002\", \"28-06-2002\", \"31-07-2002\", \"30-08-2002\", \"30-09-2002\", \"31-10-2002\", \"29-11-2002\", \"31-12-2002\", \"31-01-2003\", \"28-02-2003\", \"31-03-2003\", \"30-04-2003\", \"30-05-2003\", \"30-06-2003\", \"31-07-2003\", \"29-08-2003\", \"30-09-2003\", \"31-10-2003\", \"28-11-2003\", \"31-12-2003\", \"30-01-2004\", \"27-02-2004\", \"31-03-2004\", \"30-04-2004\", \"31-05-2004\", \"30-06-2004\", \"30-07-2004\", \"31-08-2004\", \"30-09-2004\", \"29-10-2004\", \"30-11-2004\", \"31-12-2004\", \"31-01-2005\", \"28-02-2005\", \"31-03-2005\", \"29-04-2005\", \"31-05-2005\", \"30-06-2005\", \"29-07-2005\", \"31-08-2005\", \"30-09-2005\", \"31-10-2005\", \"30-11-2005\", \"30-12-2005\", \"31-01-2006\", \"28-02-2006\", \"31-03-2006\", \"28-04-2006\", \"31-05-2006\", \"30-06-2006\", \"31-07-2006\", \"31-08-2006\", \"29-09-2006\", \"31-10-2006\", \"30-11-2006\", \"29-12-2006\", \"31-01-2007\", \"28-02-2007\", \"30-03-2007\", \"30-04-2007\", \"31-05-2007\", \"29-06-2007\", \"31-07-2007\", \"31-08-2007\", \"28-09-2007\", \"31-10-2007\", \"30-11-2007\", \"31-12-2007\", \"31-01-2008\", \"29-02-2008\", \"31-03-2008\", \"30-04-2008\", \"30-05-2008\", \"30-06-2008\", \"31-07-2008\", \"29-08-2008\", \"30-09-2008\", \"31-10-2008\", \"28-11-2008\", \"31-12-2008\", \"30-01-2009\", \"27-02-2009\", \"31-03-2009\", \"30-04-2009\", \"29-05-2009\", \"30-06-2009\", \"31-07-2009\", \"31-08-2009\", \"30-09-2009\", \"30-10-2009\", \"30-11-2009\", \"31-12-2009\", \"29-01-2010\", \"26-02-2010\", \"31-03-2010\", \"30-04-2010\", \"31-05-2010\", \"30-06-2010\", \"30-07-2010\", \"31-08-2010\", \"30-09-2010\", \"29-10-2010\", \"30-11-2010\", \"31-12-2010\", \"31-01-2011\", \"28-02-2011\", \"31-03-2011\", \"29-04-2011\", \"31-05-2011\", \"30-06-2011\", \"29-07-2011\", \"31-08-2011\", \"30-09-2011\", \"31-10-2011\", \"30-11-2011\", \"30-12-2011\", \"31-01-2012\", \"29-02-2012\", \"30-03-2012\", \"30-04-2012\", \"31-05-2012\", \"29-06-2012\", \"31-07-2012\", \"31-08-2012\", \"28-09-2012\", \"31-10-2012\", \"30-11-2012\", \"31-12-2012\", \"31-01-2013\", \"28-02-2013\", \"29-03-2013\", \"30-04-2013\", \"31-05-2013\", \"28-06-2013\", \"31-07-2013\", \"30-08-2013\", \"30-09-2013\", \"31-10-2013\", \"29-11-2013\", \"31-12-2013\", \"31-01-2014\", \"28-02-2014\", \"31-03-2014\", \"30-04-2014\", \"30-05-2014\", \"30-06-2014\", \"31-07-2014\", \"29-08-2014\", \"30-09-2014\", \"31-10-2014\", \"28-11-2014\", \"31-12-2014\", \"30-01-2015\", \"27-02-2015\", \"31-03-2015\", \"30-04-2015\", \"29-05-2015\", \"30-06-2015\", \"31-07-2015\", \"31-08-2015\", \"30-09-2015\", \"30-10-2015\", \"30-11-2015\", \"31-12-2015\", \"29-01-2016\", \"29-02-2016\", \"31-03-2016\", \"29-04-2016\", \"31-05-2016\", \"30-06-2016\", \"29-07-2016\", \"31-08-2016\", \"30-09-2016\", \"31-10-2016\", \"30-11-2016\", \"30-12-2016\", \"31-01-2017\", \"28-02-2017\", \"31-03-2017\", \"28-04-2017\", \"31-05-2017\", \"30-06-2017\", \"31-07-2017\", \"31-08-2017\", \"29-09-2017\", \"31-10-2017\", \"30-11-2017\", \"29-12-2017\", \"31-01-2018\", \"28-02-2018\", \"30-03-2018\", \"30-04-2018\", \"31-05-2018\", \"29-06-2018\", \"31-07-2018\", \"31-08-2018\", \"28-09-2018\", \"31-10-2018\", \"30-11-2018\", \"31-12-2018\", \"31-01-2019\", \"28-02-2019\", \"29-03-2019\", \"30-04-2019\", \"31-05-2019\", \"28-06-2019\", \"31-07-2019\", \"30-08-2019\", \"30-09-2019\", \"31-10-2019\", \"29-11-2019\", \"31-12-2019\", \"31-01-2020\", \"28-02-2020\", \"31-03-2020\", \"30-04-2020\", \"29-05-2020\", \"30-06-2020\", \"31-07-2020\", \"31-08-2020\", \"30-09-2020\", \"30-10-2020\", \"30-11-2020\", \"31-12-2020\", \"29-01-2021\", \"26-02-2021\", \"31-03-2021\", \"30-04-2021\", \"31-05-2021\", \"30-06-2021\", \"30-07-2021\"], \"xaxis\": \"x\", \"y\": [233.7, 251.3, 240.1, 245.3, 274.6, 277.5, 296.5, 315.1, 397.3, 382.0, 415.7, 512.0, 653.0, 637.0, 494.5, 518.0, 535.5, 653.5, 614.3, 631.3, 666.8, 629.0, 619.8, 589.8, 506.5, 489.0, 513.8, 482.8, 479.3, 426.0, 406.0, 425.0, 428.8, 427.0, 414.5, 397.5, 387.0, 362.6, 320.0, 361.3, 325.3, 317.5, 342.9, 411.5, 397.0, 423.3, 436.0, 456.9, 499.5, 408.5, 414.8, 429.3, 437.5, 416.0, 422.0, 414.3, 405.0, 382.0, 405.0, 382.4, 373.8, 394.3, 388.5, 375.8, 384.3, 373.1, 342.4, 348.3, 343.8, 333.5, 329.0, 308.3, 306.7, 287.8, 329.3, 321.4, 314.0, 317.8, 327.5, 333.3, 325.8, 325.1, 325.3, 326.8, 350.5, 338.2, 344.0, 345.8, 343.2, 346.8, 357.5, 384.7, 423.2, 401.0, 389.5, 388.8, 400.5, 405.9, 421.0, 453.3, 451.0, 447.3, 462.5, 453.4, 459.5, 468.8, 492.5, 484.1, 458.0, 426.2, 457.0, 449.0, 455.5, 436.6, 436.8, 427.8, 396.7, 412.4, 422.6, 410.3, 394.0, 387.0, 383.2, 377.6, 361.8, 373.0, 368.3, 359.8, 366.5, 375.3, 408.2, 398.6, 415.1, 407.7, 368.5, 367.8, 363.1, 352.2, 372.3, 387.8, 408.4, 379.5, 384.9, 386.2, 366.0, 362.7, 355.7, 357.8, 360.4, 368.4, 362.9, 347.4, 354.9, 357.5, 366.3, 353.2, 354.1, 353.1, 341.7, 336.4, 337.5, 343.4, 357.9, 340.0, 349.0, 339.3, 334.2, 332.9, 330.5, 327.6, 337.8, 354.3, 377.5, 378.5, 401.8, 371.6, 355.5, 369.6, 370.9, 391.8, 377.9, 381.6, 389.2, 376.5, 387.6, 388.3, 384.0, 385.8, 394.9, 383.9, 383.1, 383.3, 374.9, 376.4, 392.0, 389.8, 384.3, 387.1, 383.4, 382.4, 384.0, 382.7, 387.8, 387.0, 405.6, 400.7, 396.4, 391.3, 390.6, 382.0, 385.3, 386.5, 379.0, 379.5, 371.3, 369.3, 345.5, 358.6, 348.2, 340.2, 345.6, 334.6, 326.4, 325.4, 332.1, 311.4, 296.8, 290.2, 304.9, 297.4, 301.0, 310.7, 293.6, 296.3, 288.9, 273.4, 293.9, 292.3, 294.7, 287.8, 285.4, 287.1, 279.5, 286.6, 268.6, 261.0, 255.6, 254.8, 299.0, 299.1, 291.4, 290.3, 283.3, 293.7, 276.8, 275.1, 272.3, 288.2, 276.8, 277.0, 273.7, 264.5, 269.1, 274.5, 264.5, 266.7, 257.7, 263.2, 267.5, 270.6, 265.9, 273.0, 293.1, 278.8, 275.5, 276.5, 282.3, 296.9, 301.4, 308.2, 326.6, 318.5, 304.7, 312.8, 323.7, 316.9, 319.1, 347.2, 367.5, 347.5, 334.9, 336.8, 361.4, 346.0, 354.8, 375.6, 388.0, 386.3, 398.4, 416.3, 399.8, 395.9, 423.7, 388.5, 393.3, 395.8, 391.4, 407.3, 415.7, 425.6, 453.4, 435.6, 422.2, 435.5, 427.5, 435.7, 414.5, 437.1, 429.0, 433.3, 473.3, 470.8, 495.7, 513.0, 568.8, 556.0, 582.0, 644.0, 653.0, 613.5, 632.5, 623.5, 599.3, 603.8, 646.7, 632.0, 650.5, 664.2, 661.8, 677.0, 659.1, 650.5, 665.5, 672.0, 743.0, 789.5, 783.5, 833.8, 923.3, 971.5, 933.5, 871.0, 885.8, 930.3, 918.0, 833.0, 884.5, 730.8, 814.5, 869.8, 919.5, 952.0, 916.5, 883.3, 975.5, 934.5, 939.0, 955.5, 995.8, 1040.0, 1175.8, 1087.5, 1078.5, 1108.3, 1115.5, 1179.3, 1207.5, 1244.0, 1169.0, 1246.0, 1307.0, 1346.8, 1383.5, 1405.5, 1327.0, 1411.0, 1439.0, 1535.5, 1536.5, 1505.5, 1628.5, 1813.5, 1620.0, 1722.0, 1746.0, 1531.0, 1744.0, 1770.0, 1662.5, 1651.3, 1558.0, 1598.5, 1622.0, 1648.5, 1776.0, 1719.0, 1726.0, 1657.5, 1664.8, 1588.5, 1598.3, 1469.0, 1394.5, 1192.0, 1314.5, 1394.8, 1326.5, 1324.0, 1253.0, 1204.5, 1251.0, 1326.5, 1291.8, 1288.5, 1250.5, 1315.0, 1285.3, 1285.8, 1216.5, 1164.3, 1182.8, 1206.0, 1260.3, 1214.0, 1187.0, 1180.3, 1191.4, 1171.0, 1098.4, 1135.0, 1114.0, 1142.4, 1061.9, 1060.0, 1111.8, 1234.9, 1237.0, 1285.7, 1212.1, 1320.8, 1342.0, 1309.3, 1322.5, 1272.0, 1178.1, 1145.9, 1212.8, 1255.6, 1244.9, 1266.5, 1266.2, 1242.3, 1267.6, 1311.8, 1283.1, 1270.2, 1280.2, 1291.0, 1345.1, 1317.9, 1323.9, 1313.2, 1305.4, 1250.5, 1221.0, 1202.5, 1187.3, 1215.0, 1217.6, 1279.0, 1323.3, 1319.2, 1295.4, 1282.3, 1295.6, 1409.0, 1427.6, 1528.4, 1485.3, 1511.0, 1460.2, 1514.8, 1584.2, 1609.9, 1609.0, 1702.8, 1728.7, 1768.1, 1964.9, 1957.4, 1886.9, 1881.9, 1762.6, 1887.6, 1863.8, 1742.9, 1691.1, 1767.7, 1900.0, 1763.2, 1825.8], \"yaxis\": \"y\"}],\n",
              "                        {\"legend\": {\"tracegroupgap\": 0}, \"margin\": {\"t\": 60}, \"template\": {\"data\": {\"bar\": [{\"error_x\": {\"color\": \"#2a3f5f\"}, \"error_y\": {\"color\": \"#2a3f5f\"}, \"marker\": {\"line\": {\"color\": \"#E5ECF6\", \"width\": 0.5}}, \"type\": \"bar\"}], \"barpolar\": [{\"marker\": {\"line\": {\"color\": \"#E5ECF6\", \"width\": 0.5}}, \"type\": \"barpolar\"}], \"carpet\": [{\"aaxis\": {\"endlinecolor\": \"#2a3f5f\", \"gridcolor\": \"white\", \"linecolor\": \"white\", \"minorgridcolor\": \"white\", \"startlinecolor\": \"#2a3f5f\"}, \"baxis\": {\"endlinecolor\": \"#2a3f5f\", \"gridcolor\": \"white\", \"linecolor\": \"white\", \"minorgridcolor\": \"white\", \"startlinecolor\": \"#2a3f5f\"}, \"type\": \"carpet\"}], \"choropleth\": [{\"colorbar\": {\"outlinewidth\": 0, \"ticks\": \"\"}, \"type\": \"choropleth\"}], \"contour\": [{\"colorbar\": {\"outlinewidth\": 0, \"ticks\": \"\"}, \"colorscale\": [[0.0, \"#0d0887\"], [0.1111111111111111, \"#46039f\"], [0.2222222222222222, \"#7201a8\"], [0.3333333333333333, \"#9c179e\"], [0.4444444444444444, \"#bd3786\"], [0.5555555555555556, \"#d8576b\"], [0.6666666666666666, \"#ed7953\"], [0.7777777777777778, \"#fb9f3a\"], [0.8888888888888888, \"#fdca26\"], [1.0, \"#f0f921\"]], \"type\": \"contour\"}], \"contourcarpet\": [{\"colorbar\": {\"outlinewidth\": 0, \"ticks\": \"\"}, \"type\": \"contourcarpet\"}], \"heatmap\": [{\"colorbar\": {\"outlinewidth\": 0, \"ticks\": \"\"}, \"colorscale\": [[0.0, \"#0d0887\"], [0.1111111111111111, \"#46039f\"], [0.2222222222222222, \"#7201a8\"], [0.3333333333333333, \"#9c179e\"], [0.4444444444444444, \"#bd3786\"], [0.5555555555555556, \"#d8576b\"], [0.6666666666666666, \"#ed7953\"], [0.7777777777777778, \"#fb9f3a\"], [0.8888888888888888, \"#fdca26\"], [1.0, \"#f0f921\"]], \"type\": \"heatmap\"}], \"heatmapgl\": [{\"colorbar\": {\"outlinewidth\": 0, \"ticks\": \"\"}, \"colorscale\": [[0.0, \"#0d0887\"], [0.1111111111111111, \"#46039f\"], [0.2222222222222222, \"#7201a8\"], [0.3333333333333333, \"#9c179e\"], [0.4444444444444444, \"#bd3786\"], [0.5555555555555556, \"#d8576b\"], [0.6666666666666666, \"#ed7953\"], [0.7777777777777778, \"#fb9f3a\"], [0.8888888888888888, \"#fdca26\"], [1.0, \"#f0f921\"]], \"type\": \"heatmapgl\"}], \"histogram\": [{\"marker\": {\"colorbar\": {\"outlinewidth\": 0, \"ticks\": \"\"}}, \"type\": \"histogram\"}], \"histogram2d\": [{\"colorbar\": {\"outlinewidth\": 0, \"ticks\": \"\"}, \"colorscale\": [[0.0, \"#0d0887\"], [0.1111111111111111, \"#46039f\"], [0.2222222222222222, \"#7201a8\"], [0.3333333333333333, \"#9c179e\"], [0.4444444444444444, \"#bd3786\"], [0.5555555555555556, \"#d8576b\"], [0.6666666666666666, \"#ed7953\"], [0.7777777777777778, \"#fb9f3a\"], [0.8888888888888888, \"#fdca26\"], [1.0, \"#f0f921\"]], \"type\": \"histogram2d\"}], \"histogram2dcontour\": [{\"colorbar\": {\"outlinewidth\": 0, \"ticks\": \"\"}, \"colorscale\": [[0.0, \"#0d0887\"], [0.1111111111111111, \"#46039f\"], [0.2222222222222222, \"#7201a8\"], [0.3333333333333333, \"#9c179e\"], [0.4444444444444444, \"#bd3786\"], [0.5555555555555556, \"#d8576b\"], [0.6666666666666666, \"#ed7953\"], [0.7777777777777778, \"#fb9f3a\"], [0.8888888888888888, \"#fdca26\"], [1.0, \"#f0f921\"]], \"type\": \"histogram2dcontour\"}], \"mesh3d\": [{\"colorbar\": {\"outlinewidth\": 0, \"ticks\": \"\"}, \"type\": \"mesh3d\"}], \"parcoords\": [{\"line\": {\"colorbar\": {\"outlinewidth\": 0, \"ticks\": \"\"}}, \"type\": \"parcoords\"}], \"pie\": [{\"automargin\": true, \"type\": \"pie\"}], \"scatter\": [{\"marker\": {\"colorbar\": {\"outlinewidth\": 0, \"ticks\": \"\"}}, \"type\": \"scatter\"}], \"scatter3d\": [{\"line\": {\"colorbar\": {\"outlinewidth\": 0, \"ticks\": \"\"}}, \"marker\": {\"colorbar\": {\"outlinewidth\": 0, \"ticks\": \"\"}}, \"type\": \"scatter3d\"}], \"scattercarpet\": [{\"marker\": {\"colorbar\": {\"outlinewidth\": 0, \"ticks\": \"\"}}, \"type\": \"scattercarpet\"}], \"scattergeo\": [{\"marker\": {\"colorbar\": {\"outlinewidth\": 0, \"ticks\": \"\"}}, \"type\": \"scattergeo\"}], \"scattergl\": [{\"marker\": {\"colorbar\": {\"outlinewidth\": 0, \"ticks\": \"\"}}, \"type\": \"scattergl\"}], \"scattermapbox\": [{\"marker\": {\"colorbar\": {\"outlinewidth\": 0, \"ticks\": \"\"}}, \"type\": \"scattermapbox\"}], \"scatterpolar\": [{\"marker\": {\"colorbar\": {\"outlinewidth\": 0, \"ticks\": \"\"}}, \"type\": \"scatterpolar\"}], \"scatterpolargl\": [{\"marker\": {\"colorbar\": {\"outlinewidth\": 0, \"ticks\": \"\"}}, \"type\": \"scatterpolargl\"}], \"scatterternary\": [{\"marker\": {\"colorbar\": {\"outlinewidth\": 0, \"ticks\": \"\"}}, \"type\": \"scatterternary\"}], \"surface\": [{\"colorbar\": {\"outlinewidth\": 0, \"ticks\": \"\"}, \"colorscale\": [[0.0, \"#0d0887\"], [0.1111111111111111, \"#46039f\"], [0.2222222222222222, \"#7201a8\"], [0.3333333333333333, \"#9c179e\"], [0.4444444444444444, \"#bd3786\"], [0.5555555555555556, \"#d8576b\"], [0.6666666666666666, \"#ed7953\"], [0.7777777777777778, \"#fb9f3a\"], [0.8888888888888888, \"#fdca26\"], [1.0, \"#f0f921\"]], \"type\": \"surface\"}], \"table\": [{\"cells\": {\"fill\": {\"color\": \"#EBF0F8\"}, \"line\": {\"color\": \"white\"}}, \"header\": {\"fill\": {\"color\": \"#C8D4E3\"}, \"line\": {\"color\": \"white\"}}, \"type\": \"table\"}]}, \"layout\": {\"annotationdefaults\": {\"arrowcolor\": \"#2a3f5f\", \"arrowhead\": 0, \"arrowwidth\": 1}, \"coloraxis\": {\"colorbar\": {\"outlinewidth\": 0, \"ticks\": \"\"}}, \"colorscale\": {\"diverging\": [[0, \"#8e0152\"], [0.1, \"#c51b7d\"], [0.2, \"#de77ae\"], [0.3, \"#f1b6da\"], [0.4, \"#fde0ef\"], [0.5, \"#f7f7f7\"], [0.6, \"#e6f5d0\"], [0.7, \"#b8e186\"], [0.8, \"#7fbc41\"], [0.9, \"#4d9221\"], [1, \"#276419\"]], \"sequential\": [[0.0, \"#0d0887\"], [0.1111111111111111, \"#46039f\"], [0.2222222222222222, \"#7201a8\"], [0.3333333333333333, \"#9c179e\"], [0.4444444444444444, \"#bd3786\"], [0.5555555555555556, \"#d8576b\"], [0.6666666666666666, \"#ed7953\"], [0.7777777777777778, \"#fb9f3a\"], [0.8888888888888888, \"#fdca26\"], [1.0, \"#f0f921\"]], \"sequentialminus\": [[0.0, \"#0d0887\"], [0.1111111111111111, \"#46039f\"], [0.2222222222222222, \"#7201a8\"], [0.3333333333333333, \"#9c179e\"], [0.4444444444444444, \"#bd3786\"], [0.5555555555555556, \"#d8576b\"], [0.6666666666666666, \"#ed7953\"], [0.7777777777777778, \"#fb9f3a\"], [0.8888888888888888, \"#fdca26\"], [1.0, \"#f0f921\"]]}, \"colorway\": [\"#636efa\", \"#EF553B\", \"#00cc96\", \"#ab63fa\", \"#FFA15A\", \"#19d3f3\", \"#FF6692\", \"#B6E880\", \"#FF97FF\", \"#FECB52\"], \"font\": {\"color\": \"#2a3f5f\"}, \"geo\": {\"bgcolor\": \"white\", \"lakecolor\": \"white\", \"landcolor\": \"#E5ECF6\", \"showlakes\": true, \"showland\": true, \"subunitcolor\": \"white\"}, \"hoverlabel\": {\"align\": \"left\"}, \"hovermode\": \"closest\", \"mapbox\": {\"style\": \"light\"}, \"paper_bgcolor\": \"white\", \"plot_bgcolor\": \"#E5ECF6\", \"polar\": {\"angularaxis\": {\"gridcolor\": \"white\", \"linecolor\": \"white\", \"ticks\": \"\"}, \"bgcolor\": \"#E5ECF6\", \"radialaxis\": {\"gridcolor\": \"white\", \"linecolor\": \"white\", \"ticks\": \"\"}}, \"scene\": {\"xaxis\": {\"backgroundcolor\": \"#E5ECF6\", \"gridcolor\": \"white\", \"gridwidth\": 2, \"linecolor\": \"white\", \"showbackground\": true, \"ticks\": \"\", \"zerolinecolor\": \"white\"}, \"yaxis\": {\"backgroundcolor\": \"#E5ECF6\", \"gridcolor\": \"white\", \"gridwidth\": 2, \"linecolor\": \"white\", \"showbackground\": true, \"ticks\": \"\", \"zerolinecolor\": \"white\"}, \"zaxis\": {\"backgroundcolor\": \"#E5ECF6\", \"gridcolor\": \"white\", \"gridwidth\": 2, \"linecolor\": \"white\", \"showbackground\": true, \"ticks\": \"\", \"zerolinecolor\": \"white\"}}, \"shapedefaults\": {\"line\": {\"color\": \"#2a3f5f\"}}, \"ternary\": {\"aaxis\": {\"gridcolor\": \"white\", \"linecolor\": \"white\", \"ticks\": \"\"}, \"baxis\": {\"gridcolor\": \"white\", \"linecolor\": \"white\", \"ticks\": \"\"}, \"bgcolor\": \"#E5ECF6\", \"caxis\": {\"gridcolor\": \"white\", \"linecolor\": \"white\", \"ticks\": \"\"}}, \"title\": {\"x\": 0.05}, \"xaxis\": {\"automargin\": true, \"gridcolor\": \"white\", \"linecolor\": \"white\", \"ticks\": \"\", \"title\": {\"standoff\": 15}, \"zerolinecolor\": \"white\", \"zerolinewidth\": 2}, \"yaxis\": {\"automargin\": true, \"gridcolor\": \"white\", \"linecolor\": \"white\", \"ticks\": \"\", \"title\": {\"standoff\": 15}, \"zerolinecolor\": \"white\", \"zerolinewidth\": 2}}}, \"xaxis\": {\"anchor\": \"y\", \"domain\": [0.0, 1.0], \"title\": {\"text\": \"Date\"}}, \"yaxis\": {\"anchor\": \"x\", \"domain\": [0.0, 1.0], \"title\": {\"text\": \"United States(USD)\"}}},\n",
              "                        {\"responsive\": true}\n",
              "                    ).then(function(){\n",
              "                            \n",
              "var gd = document.getElementById('85be305e-8514-40db-b579-bb2c82ddf1a8');\n",
              "var x = new MutationObserver(function (mutations, observer) {{\n",
              "        var display = window.getComputedStyle(gd).display;\n",
              "        if (!display || display === 'none') {{\n",
              "            console.log([gd, 'removed!']);\n",
              "            Plotly.purge(gd);\n",
              "            observer.disconnect();\n",
              "        }}\n",
              "}});\n",
              "\n",
              "// Listen for the removal of the full notebook cells\n",
              "var notebookContainer = gd.closest('#notebook-container');\n",
              "if (notebookContainer) {{\n",
              "    x.observe(notebookContainer, {childList: true});\n",
              "}}\n",
              "\n",
              "// Listen for the clearing of the current output cell\n",
              "var outputEl = gd.closest('.output');\n",
              "if (outputEl) {{\n",
              "    x.observe(outputEl, {childList: true});\n",
              "}}\n",
              "\n",
              "                        })\n",
              "                };\n",
              "                \n",
              "            </script>\n",
              "        </div>\n",
              "</body>\n",
              "</html>"
            ]
          },
          "metadata": {}
        }
      ]
    },
    {
      "cell_type": "markdown",
      "metadata": {
        "id": "tv8I5n2QLcu2"
      },
      "source": [
        "re-sampling"
      ]
    },
    {
      "cell_type": "code",
      "metadata": {
        "colab": {
          "base_uri": "https://localhost:8080/",
          "height": 295
        },
        "id": "4tx6rioyDvm7",
        "outputId": "6c0e17bd-dc92-44bf-ed2b-214dc0a28b8d"
      },
      "source": [
        "gold_df = pd.read_csv('/content/drive/MyDrive/Colab Notebooks/seasonal/dataset/1979-2021.csv', index_col='Date', parse_dates=True)\n",
        "\n",
        "gold_df['United States(USD)'].resample(rule='12M').mean().plot()"
      ],
      "execution_count": 10,
      "outputs": [
        {
          "output_type": "execute_result",
          "data": {
            "text/plain": [
              "<matplotlib.axes._subplots.AxesSubplot at 0x7fa8f6fcf790>"
            ]
          },
          "metadata": {},
          "execution_count": 10
        },
        {
          "output_type": "display_data",
          "data": {
            "image/png": "[encoded data removed]",
            "text/plain": [
              "<Figure size 432x288 with 1 Axes>"
            ]
          },
          "metadata": {
            "needs_background": "light"
          }
        }
      ]
    },
    {
      "cell_type": "markdown",
      "metadata": {
        "id": "tqExUMr5Mj0M"
      },
      "source": [
        "moving average"
      ]
    },
    {
      "cell_type": "code",
      "metadata": {
        "colab": {
          "base_uri": "https://localhost:8080/",
          "height": 403
        },
        "id": "-MAQTUHxKIzG",
        "outputId": "3d3dafa8-d007-4c93-c59f-4ad20664f409"
      },
      "source": [
        "gold_df['United States(USD)'].plot(figsize=(12,6))\n",
        "gold_df.expanding().mean()['United States(USD)'].plot()"
      ],
      "execution_count": 13,
      "outputs": [
        {
          "output_type": "execute_result",
          "data": {
            "text/plain": [
              "<matplotlib.axes._subplots.AxesSubplot at 0x7fa8f56b3c10>"
            ]
          },
          "metadata": {},
          "execution_count": 13
        },
        {
          "output_type": "display_data",
          "data": {
            "image/png": "[encoded data removed]",
            "text/plain": [
              "<Figure size 864x432 with 1 Axes>"
            ]
          },
          "metadata": {
            "needs_background": "light"
          }
        }
      ]
    },
    {
      "cell_type": "code",
      "metadata": {
        "colab": {
          "base_uri": "https://localhost:8080/",
          "height": 638
        },
        "id": "92rtMujJCu0c",
        "outputId": "bc80f660-1617-4921-87b6-298ee00febb2"
      },
      "source": [
        "gold_df"
      ],
      "execution_count": 11,
      "outputs": [
        {
          "output_type": "execute_result",
          "data": {
            "text/html": [
              "<div>\n",
              "<style scoped>\n",
              "    .dataframe tbody tr th:only-of-type {\n",
              "        vertical-align: middle;\n",
              "    }\n",
              "\n",
              "    .dataframe tbody tr th {\n",
              "        vertical-align: top;\n",
              "    }\n",
              "\n",
              "    .dataframe thead th {\n",
              "        text-align: right;\n",
              "    }\n",
              "</style>\n",
              "<table border=\"1\" class=\"dataframe\">\n",
              "  <thead>\n",
              "    <tr style=\"text-align: right;\">\n",
              "      <th></th>\n",
              "      <th>United States(USD)</th>\n",
              "      <th>Europe(EUR)</th>\n",
              "      <th>Japan(JPY)</th>\n",
              "      <th>United Kingdom(GBP)</th>\n",
              "      <th>Canada(CAD)</th>\n",
              "      <th>Switzerland(CHF)</th>\n",
              "      <th>India(INR)</th>\n",
              "      <th>China(CNY)</th>\n",
              "      <th>Turkey(TRY)</th>\n",
              "      <th>Saudi Arabia(SAR)</th>\n",
              "      <th>Indonesia(IDR)</th>\n",
              "      <th>United Arab Emirates(AED)</th>\n",
              "      <th>Thailand(THB)</th>\n",
              "      <th>Vietnam(VND)</th>\n",
              "      <th>Egypt(EGP)</th>\n",
              "      <th>South Korean(KRW)</th>\n",
              "      <th>Australia(AUD)</th>\n",
              "      <th>South Africa(ZAR)</th>\n",
              "    </tr>\n",
              "    <tr>\n",
              "      <th>Date</th>\n",
              "      <th></th>\n",
              "      <th></th>\n",
              "      <th></th>\n",
              "      <th></th>\n",
              "      <th></th>\n",
              "      <th></th>\n",
              "      <th></th>\n",
              "      <th></th>\n",
              "      <th></th>\n",
              "      <th></th>\n",
              "      <th></th>\n",
              "      <th></th>\n",
              "      <th></th>\n",
              "      <th></th>\n",
              "      <th></th>\n",
              "      <th></th>\n",
              "      <th></th>\n",
              "      <th></th>\n",
              "    </tr>\n",
              "  </thead>\n",
              "  <tbody>\n",
              "    <tr>\n",
              "      <th>1979-01-31</th>\n",
              "      <td>233.7</td>\n",
              "      <td>144.8</td>\n",
              "      <td>45160.3</td>\n",
              "      <td>117.4</td>\n",
              "      <td>267.1</td>\n",
              "      <td>379.3</td>\n",
              "      <td>1840.8</td>\n",
              "      <td>NaN</td>\n",
              "      <td>NaN</td>\n",
              "      <td>745.2</td>\n",
              "      <td>139739.3</td>\n",
              "      <td>856.1</td>\n",
              "      <td>4511.3</td>\n",
              "      <td>NaN</td>\n",
              "      <td>NaN</td>\n",
              "      <td>108235.8</td>\n",
              "      <td>197.2</td>\n",
              "      <td>194.5</td>\n",
              "    </tr>\n",
              "    <tr>\n",
              "      <th>1979-02-28</th>\n",
              "      <td>251.3</td>\n",
              "      <td>154.6</td>\n",
              "      <td>50209.1</td>\n",
              "      <td>124.2</td>\n",
              "      <td>295.5</td>\n",
              "      <td>413.6</td>\n",
              "      <td>2011.7</td>\n",
              "      <td>NaN</td>\n",
              "      <td>NaN</td>\n",
              "      <td>827.8</td>\n",
              "      <td>154683.1</td>\n",
              "      <td>946.6</td>\n",
              "      <td>4985.7</td>\n",
              "      <td>NaN</td>\n",
              "      <td>NaN</td>\n",
              "      <td>119929.3</td>\n",
              "      <td>219.6</td>\n",
              "      <td>209.4</td>\n",
              "    </tr>\n",
              "    <tr>\n",
              "      <th>1979-03-30</th>\n",
              "      <td>240.1</td>\n",
              "      <td>148.0</td>\n",
              "      <td>50274.3</td>\n",
              "      <td>116.2</td>\n",
              "      <td>278.2</td>\n",
              "      <td>406.2</td>\n",
              "      <td>1940.2</td>\n",
              "      <td>NaN</td>\n",
              "      <td>NaN</td>\n",
              "      <td>796.7</td>\n",
              "      <td>148844.2</td>\n",
              "      <td>910.4</td>\n",
              "      <td>4812.9</td>\n",
              "      <td>NaN</td>\n",
              "      <td>NaN</td>\n",
              "      <td>116123.6</td>\n",
              "      <td>214.6</td>\n",
              "      <td>202.4</td>\n",
              "    </tr>\n",
              "    <tr>\n",
              "      <th>1979-04-30</th>\n",
              "      <td>245.3</td>\n",
              "      <td>152.8</td>\n",
              "      <td>54144.6</td>\n",
              "      <td>118.8</td>\n",
              "      <td>278.5</td>\n",
              "      <td>420.0</td>\n",
              "      <td>2013.1</td>\n",
              "      <td>NaN</td>\n",
              "      <td>NaN</td>\n",
              "      <td>819.4</td>\n",
              "      <td>152453.6</td>\n",
              "      <td>930.2</td>\n",
              "      <td>4891.0</td>\n",
              "      <td>NaN</td>\n",
              "      <td>NaN</td>\n",
              "      <td>117423.3</td>\n",
              "      <td>221.1</td>\n",
              "      <td>206.9</td>\n",
              "    </tr>\n",
              "    <tr>\n",
              "      <th>1979-05-31</th>\n",
              "      <td>274.6</td>\n",
              "      <td>172.0</td>\n",
              "      <td>61057.1</td>\n",
              "      <td>132.7</td>\n",
              "      <td>321.6</td>\n",
              "      <td>478.0</td>\n",
              "      <td>2253.4</td>\n",
              "      <td>NaN</td>\n",
              "      <td>NaN</td>\n",
              "      <td>933.3</td>\n",
              "      <td>171656.1</td>\n",
              "      <td>1048.4</td>\n",
              "      <td>5560.8</td>\n",
              "      <td>NaN</td>\n",
              "      <td>NaN</td>\n",
              "      <td>133889.6</td>\n",
              "      <td>250.7</td>\n",
              "      <td>233.7</td>\n",
              "    </tr>\n",
              "    <tr>\n",
              "      <th>...</th>\n",
              "      <td>...</td>\n",
              "      <td>...</td>\n",
              "      <td>...</td>\n",
              "      <td>...</td>\n",
              "      <td>...</td>\n",
              "      <td>...</td>\n",
              "      <td>...</td>\n",
              "      <td>...</td>\n",
              "      <td>...</td>\n",
              "      <td>...</td>\n",
              "      <td>...</td>\n",
              "      <td>...</td>\n",
              "      <td>...</td>\n",
              "      <td>...</td>\n",
              "      <td>...</td>\n",
              "      <td>...</td>\n",
              "      <td>...</td>\n",
              "      <td>...</td>\n",
              "    </tr>\n",
              "    <tr>\n",
              "      <th>2021-03-31</th>\n",
              "      <td>1691.1</td>\n",
              "      <td>1438.8</td>\n",
              "      <td>186861.0</td>\n",
              "      <td>1225.7</td>\n",
              "      <td>2125.4</td>\n",
              "      <td>1591.5</td>\n",
              "      <td>123639.0</td>\n",
              "      <td>11084.8</td>\n",
              "      <td>13995.6</td>\n",
              "      <td>6342.1</td>\n",
              "      <td>24562502.0</td>\n",
              "      <td>6211.5</td>\n",
              "      <td>52845.3</td>\n",
              "      <td>39020979.9</td>\n",
              "      <td>26579.1</td>\n",
              "      <td>1913845.9</td>\n",
              "      <td>2220.3</td>\n",
              "      <td>24970.5</td>\n",
              "    </tr>\n",
              "    <tr>\n",
              "      <th>2021-04-30</th>\n",
              "      <td>1767.7</td>\n",
              "      <td>1468.4</td>\n",
              "      <td>193213.0</td>\n",
              "      <td>1276.7</td>\n",
              "      <td>2174.6</td>\n",
              "      <td>1612.2</td>\n",
              "      <td>130934.3</td>\n",
              "      <td>11439.4</td>\n",
              "      <td>14657.4</td>\n",
              "      <td>6628.9</td>\n",
              "      <td>25533702.8</td>\n",
              "      <td>6492.8</td>\n",
              "      <td>55040.2</td>\n",
              "      <td>40753168.5</td>\n",
              "      <td>27681.4</td>\n",
              "      <td>1966245.4</td>\n",
              "      <td>2288.4</td>\n",
              "      <td>25644.2</td>\n",
              "    </tr>\n",
              "    <tr>\n",
              "      <th>2021-05-31</th>\n",
              "      <td>1900.0</td>\n",
              "      <td>1554.0</td>\n",
              "      <td>207845.0</td>\n",
              "      <td>1336.6</td>\n",
              "      <td>2295.3</td>\n",
              "      <td>1708.7</td>\n",
              "      <td>137979.1</td>\n",
              "      <td>12084.8</td>\n",
              "      <td>16105.4</td>\n",
              "      <td>7125.4</td>\n",
              "      <td>27131285.3</td>\n",
              "      <td>6978.3</td>\n",
              "      <td>59344.9</td>\n",
              "      <td>43786246.6</td>\n",
              "      <td>29772.2</td>\n",
              "      <td>2110939.4</td>\n",
              "      <td>2454.6</td>\n",
              "      <td>26067.3</td>\n",
              "    </tr>\n",
              "    <tr>\n",
              "      <th>2021-06-30</th>\n",
              "      <td>1763.2</td>\n",
              "      <td>1486.8</td>\n",
              "      <td>195692.0</td>\n",
              "      <td>1276.3</td>\n",
              "      <td>2183.3</td>\n",
              "      <td>1629.8</td>\n",
              "      <td>131054.9</td>\n",
              "      <td>11392.5</td>\n",
              "      <td>15317.4</td>\n",
              "      <td>6612.5</td>\n",
              "      <td>25565673.6</td>\n",
              "      <td>6476.3</td>\n",
              "      <td>56509.0</td>\n",
              "      <td>40580658.2</td>\n",
              "      <td>27672.6</td>\n",
              "      <td>1985571.3</td>\n",
              "      <td>2348.5</td>\n",
              "      <td>25175.6</td>\n",
              "    </tr>\n",
              "    <tr>\n",
              "      <th>2021-07-30</th>\n",
              "      <td>1825.8</td>\n",
              "      <td>1539.7</td>\n",
              "      <td>200376.1</td>\n",
              "      <td>1313.2</td>\n",
              "      <td>2279.2</td>\n",
              "      <td>1654.7</td>\n",
              "      <td>135863.2</td>\n",
              "      <td>11787.6</td>\n",
              "      <td>15376.5</td>\n",
              "      <td>6847.3</td>\n",
              "      <td>26404909.4</td>\n",
              "      <td>6706.3</td>\n",
              "      <td>60007.8</td>\n",
              "      <td>41910091.3</td>\n",
              "      <td>28673.4</td>\n",
              "      <td>2100068.9</td>\n",
              "      <td>2483.8</td>\n",
              "      <td>26708.4</td>\n",
              "    </tr>\n",
              "  </tbody>\n",
              "</table>\n",
              "<p>511 rows × 18 columns</p>\n",
              "</div>"
            ],
            "text/plain": [
              "            United States(USD)  Europe(EUR)  ...  Australia(AUD)  South Africa(ZAR)\n",
              "Date                                         ...                                   \n",
              "1979-01-31               233.7        144.8  ...           197.2              194.5\n",
              "1979-02-28               251.3        154.6  ...           219.6              209.4\n",
              "1979-03-30               240.1        148.0  ...           214.6              202.4\n",
              "1979-04-30               245.3        152.8  ...           221.1              206.9\n",
              "1979-05-31               274.6        172.0  ...           250.7              233.7\n",
              "...                        ...          ...  ...             ...                ...\n",
              "2021-03-31              1691.1       1438.8  ...          2220.3            24970.5\n",
              "2021-04-30              1767.7       1468.4  ...          2288.4            25644.2\n",
              "2021-05-31              1900.0       1554.0  ...          2454.6            26067.3\n",
              "2021-06-30              1763.2       1486.8  ...          2348.5            25175.6\n",
              "2021-07-30              1825.8       1539.7  ...          2483.8            26708.4\n",
              "\n",
              "[511 rows x 18 columns]"
            ]
          },
          "metadata": {},
          "execution_count": 11
        }
      ]
    }
  ]
}