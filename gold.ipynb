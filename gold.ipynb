{
  "nbformat": 4,
  "nbformat_minor": 0,
  "metadata": {
    "colab": {
      "name": "gold.ipynb",
      "provenance": [],
      "toc_visible": true,
      "mount_file_id": "1Yix8C2t0myjE5ormhE5QBVi12exdkocB",
      "authorship_tag": "ABX9TyMhseeSKpA8ILBR+Nh0IK3g",
      "include_colab_link": true
    },
    "kernelspec": {
      "name": "python3",
      "display_name": "Python 3"
    },
    "language_info": {
      "name": "python"
    }
  },
  "cells": [
    {
      "cell_type": "markdown",
      "metadata": {
        "id": "view-in-github",
        "colab_type": "text"
      },
      "source": [
        "<a href=\"https://colab.research.google.com/github/ProsperChuks/Analysis_-_Gold-Seasonal/blob/main/gold.ipynb\" target=\"_parent\"><img src=\"https://colab.research.google.com/assets/colab-badge.svg\" alt=\"Open In Colab\"/></a>"
      ]
    },
    {
      "cell_type": "code",
      "metadata": {
        "colab": {
          "base_uri": "https://localhost:8080/",
          "height": 408
        },
        "id": "8J2GBSQ2_l29",
        "outputId": "91f155b3-a6b6-4250-dd32-db8840de433a"
      },
      "source": [
        "import pandas as pd\n",
        "import numpy as np\n",
        "%matplotlib inline\n",
        "import matplotlib.pyplot as plt\n",
        "import warnings\n",
        "warnings.filterwarnings('ignore')\n",
        "from itertools import cycle, islice\n",
        "\n",
        "path = '/content/drive/MyDrive/Colab Notebooks/seasonal/dataset/1979-2021.csv'\n",
        "dict = ['Jan','Feb', 'Mar', 'Apr', 'May', 'Jun',\n",
        "        'Jul', 'Aug', 'Sep', 'Oct', 'Nov', 'Dec']\n",
        "df = pd.read_csv(path)\n",
        "df = df.assign(Month=np.NaN)\n",
        "col = list(df.columns)\n",
        "df = df[col[0:1] + [col[-1]] + col[1:18]]\n",
        "i = 0\n",
        "for months in dict:\n",
        "  df['Month'].iloc._setitem_with_indexer(i, dict[i])\n",
        "  i += 1\n",
        "\n",
        "res = list(islice(cycle(dict), len(df['Month'])))\n",
        "df['Month'] = res\n",
        "df.head()"
      ],
      "execution_count": 148,
      "outputs": [
        {
          "output_type": "execute_result",
          "data": {
            "text/html": [
              "<div>\n",
              "<style scoped>\n",
              "    .dataframe tbody tr th:only-of-type {\n",
              "        vertical-align: middle;\n",
              "    }\n",
              "\n",
              "    .dataframe tbody tr th {\n",
              "        vertical-align: top;\n",
              "    }\n",
              "\n",
              "    .dataframe thead th {\n",
              "        text-align: right;\n",
              "    }\n",
              "</style>\n",
              "<table border=\"1\" class=\"dataframe\">\n",
              "  <thead>\n",
              "    <tr style=\"text-align: right;\">\n",
              "      <th></th>\n",
              "      <th>Date</th>\n",
              "      <th>Month</th>\n",
              "      <th>United States(USD)</th>\n",
              "      <th>Europe(EUR)</th>\n",
              "      <th>Japan(JPY)</th>\n",
              "      <th>United Kingdom(GBP)</th>\n",
              "      <th>Canada(CAD)</th>\n",
              "      <th>Switzerland(CHF)</th>\n",
              "      <th>India(INR)</th>\n",
              "      <th>China(CNY)</th>\n",
              "      <th>Turkey(TRY)</th>\n",
              "      <th>Saudi Arabia(SAR)</th>\n",
              "      <th>Indonesia(IDR)</th>\n",
              "      <th>United Arab Emirates(AED)</th>\n",
              "      <th>Thailand(THB)</th>\n",
              "      <th>Vietnam(VND)</th>\n",
              "      <th>Egypt(EGP)</th>\n",
              "      <th>South Korean(KRW)</th>\n",
              "      <th>Australia(AUD)</th>\n",
              "    </tr>\n",
              "  </thead>\n",
              "  <tbody>\n",
              "    <tr>\n",
              "      <th>0</th>\n",
              "      <td>31-01-1979</td>\n",
              "      <td>Jan</td>\n",
              "      <td>233.7</td>\n",
              "      <td>144.8</td>\n",
              "      <td>45160.3</td>\n",
              "      <td>117.4</td>\n",
              "      <td>267.1</td>\n",
              "      <td>379.3</td>\n",
              "      <td>1840.8</td>\n",
              "      <td>NaN</td>\n",
              "      <td>NaN</td>\n",
              "      <td>745.2</td>\n",
              "      <td>139739.3</td>\n",
              "      <td>856.1</td>\n",
              "      <td>4511.3</td>\n",
              "      <td>NaN</td>\n",
              "      <td>NaN</td>\n",
              "      <td>108235.8</td>\n",
              "      <td>197.2</td>\n",
              "    </tr>\n",
              "    <tr>\n",
              "      <th>1</th>\n",
              "      <td>28-02-1979</td>\n",
              "      <td>Feb</td>\n",
              "      <td>251.3</td>\n",
              "      <td>154.6</td>\n",
              "      <td>50209.1</td>\n",
              "      <td>124.2</td>\n",
              "      <td>295.5</td>\n",
              "      <td>413.6</td>\n",
              "      <td>2011.7</td>\n",
              "      <td>NaN</td>\n",
              "      <td>NaN</td>\n",
              "      <td>827.8</td>\n",
              "      <td>154683.1</td>\n",
              "      <td>946.6</td>\n",
              "      <td>4985.7</td>\n",
              "      <td>NaN</td>\n",
              "      <td>NaN</td>\n",
              "      <td>119929.3</td>\n",
              "      <td>219.6</td>\n",
              "    </tr>\n",
              "    <tr>\n",
              "      <th>2</th>\n",
              "      <td>30-03-1979</td>\n",
              "      <td>Mar</td>\n",
              "      <td>240.1</td>\n",
              "      <td>148.0</td>\n",
              "      <td>50274.3</td>\n",
              "      <td>116.2</td>\n",
              "      <td>278.2</td>\n",
              "      <td>406.2</td>\n",
              "      <td>1940.2</td>\n",
              "      <td>NaN</td>\n",
              "      <td>NaN</td>\n",
              "      <td>796.7</td>\n",
              "      <td>148844.2</td>\n",
              "      <td>910.4</td>\n",
              "      <td>4812.9</td>\n",
              "      <td>NaN</td>\n",
              "      <td>NaN</td>\n",
              "      <td>116123.6</td>\n",
              "      <td>214.6</td>\n",
              "    </tr>\n",
              "    <tr>\n",
              "      <th>3</th>\n",
              "      <td>30-04-1979</td>\n",
              "      <td>Apr</td>\n",
              "      <td>245.3</td>\n",
              "      <td>152.8</td>\n",
              "      <td>54144.6</td>\n",
              "      <td>118.8</td>\n",
              "      <td>278.5</td>\n",
              "      <td>420.0</td>\n",
              "      <td>2013.1</td>\n",
              "      <td>NaN</td>\n",
              "      <td>NaN</td>\n",
              "      <td>819.4</td>\n",
              "      <td>152453.6</td>\n",
              "      <td>930.2</td>\n",
              "      <td>4891.0</td>\n",
              "      <td>NaN</td>\n",
              "      <td>NaN</td>\n",
              "      <td>117423.3</td>\n",
              "      <td>221.1</td>\n",
              "    </tr>\n",
              "    <tr>\n",
              "      <th>4</th>\n",
              "      <td>31-05-1979</td>\n",
              "      <td>May</td>\n",
              "      <td>274.6</td>\n",
              "      <td>172.0</td>\n",
              "      <td>61057.1</td>\n",
              "      <td>132.7</td>\n",
              "      <td>321.6</td>\n",
              "      <td>478.0</td>\n",
              "      <td>2253.4</td>\n",
              "      <td>NaN</td>\n",
              "      <td>NaN</td>\n",
              "      <td>933.3</td>\n",
              "      <td>171656.1</td>\n",
              "      <td>1048.4</td>\n",
              "      <td>5560.8</td>\n",
              "      <td>NaN</td>\n",
              "      <td>NaN</td>\n",
              "      <td>133889.6</td>\n",
              "      <td>250.7</td>\n",
              "    </tr>\n",
              "  </tbody>\n",
              "</table>\n",
              "</div>"
            ],
            "text/plain": [
              "         Date Month  ...  South Korean(KRW)  Australia(AUD)\n",
              "0  31-01-1979   Jan  ...           108235.8           197.2\n",
              "1  28-02-1979   Feb  ...           119929.3           219.6\n",
              "2  30-03-1979   Mar  ...           116123.6           214.6\n",
              "3  30-04-1979   Apr  ...           117423.3           221.1\n",
              "4  31-05-1979   May  ...           133889.6           250.7\n",
              "\n",
              "[5 rows x 19 columns]"
            ]
          },
          "metadata": {},
          "execution_count": 148
        }
      ]
    },
    {
      "cell_type": "code",
      "metadata": {
        "colab": {
          "base_uri": "https://localhost:8080/",
          "height": 624
        },
        "id": "yYoSUYt-BqjH",
        "outputId": "38e2dc03-c3f8-4104-dc6f-c83bac827fe6"
      },
      "source": [
        "df1979 = df.loc[df['Date'].str.contains('1979')]\n",
        "df2020 = df.loc[df['Date'].str.contains('2020')]\n",
        "\n",
        "plt.figure(figsize=(20,10))\n",
        "plt.title('Gold Seasonal')\n",
        "\n",
        "plt.plot(df1979['Month'], df1979['United States(USD)'])\n",
        "plt.plot(df2020['Month'], df2020['United States(USD)'])\n",
        "\n",
        "plt.legend()\n",
        "plt.show()"
      ],
      "execution_count": 151,
      "outputs": [
        {
          "output_type": "stream",
          "name": "stderr",
          "text": [
            "No handles with labels found to put in legend.\n"
          ]
        },
        {
          "output_type": "display_data",
          "data": {
            "image/png": "[encoded data removed]",
            "text/plain": [
              "<Figure size 1440x720 with 1 Axes>"
            ]
          },
          "metadata": {
            "needs_background": "light"
          }
        }
      ]
    }
  ]
}